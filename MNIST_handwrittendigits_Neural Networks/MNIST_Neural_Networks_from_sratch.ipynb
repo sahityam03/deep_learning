{
 "cells": [
  {
   "cell_type": "code",
   "execution_count": 1,
   "metadata": {
    "collapsed": true
   },
   "outputs": [],
   "source": [
    "from __future__ import division\n",
    "import pandas as pd\n",
    "import numpy as np\n",
    "#import scipy as sp\n",
    "#import scipy.stats as ss\n",
    "%matplotlib inline \n",
    "import matplotlib.pyplot as plt"
   ]
  },
  {
   "cell_type": "markdown",
   "metadata": {},
   "source": [
    "#### Reading data"
   ]
  },
  {
   "cell_type": "code",
   "execution_count": 2,
   "metadata": {
    "collapsed": true
   },
   "outputs": [],
   "source": [
    "\"\"\"Read train and test data \"\"\"\n",
    "train_data = pd.read_csv('ex3_train.csv')\n",
    "test_data = pd.read_csv('ex3_test.csv')\n",
    "\n",
    "\"\"\"x and y of train data\"\"\"\n",
    "X_train_df = train_data.iloc[:,0:-1]\n",
    "Y_train_df = pd.DataFrame(train_data.y)\n",
    "\n",
    "\n",
    "\"\"\"x and y of test data\"\"\"\n",
    "X_test_df = test_data.iloc[:,0:-1]\n",
    "Y_test_df = pd.DataFrame(test_data.y)"
   ]
  },
  {
   "cell_type": "code",
   "execution_count": 3,
   "metadata": {
    "collapsed": true
   },
   "outputs": [],
   "source": [
    "\"\"\"Convert train x and y into matrices\"\"\"\n",
    "x_train = np.array(X_train_df)  \n",
    "y_train = np.array(Y_train_df)  \n",
    "\n",
    "\n",
    "\"\"\"Convert test x and y into matrices\"\"\"\n",
    "x_test = np.array(X_test_df)  \n",
    "y_test = np.array(Y_test_df)  \n"
   ]
  },
  {
   "cell_type": "markdown",
   "metadata": {},
   "source": [
    "#### Initializing parameters"
   ]
  },
  {
   "cell_type": "code",
   "execution_count": 4,
   "metadata": {
    "collapsed": true
   },
   "outputs": [],
   "source": [
    "\"\"\"initializin weights and bias (w1, w2, b1, b2) function return weights and biases\"\"\"\n",
    "\n",
    "def initalize_parameters():\n",
    "\n",
    "    np.random.seed(1)\n",
    "    \"\"\"weights\"\"\"\n",
    "    W_first = 0.01 * np.random.randn(25, 400)  \n",
    "    W_second = 0.01 * np.random.randn(10, 25)  \n",
    "    \"\"\"bias\"\"\"\n",
    "    bias1 = np.zeros((25, 1)) \n",
    "    bias2 = np.zeros((10, 1)) \n",
    "    \n",
    "    \n",
    "    return W_first, W_second, bias1, bias2"
   ]
  },
  {
   "cell_type": "markdown",
   "metadata": {},
   "source": [
    "#### One Hot Encoding"
   ]
  },
  {
   "cell_type": "code",
   "execution_count": 5,
   "metadata": {
    "collapsed": true
   },
   "outputs": [],
   "source": [
    "\"\"\"Function for One hot encoding. input Y as an array and no.of samples is passed to the function\"\"\"\n",
    "\n",
    "def One_Hot_Encoding(arr, samples_num):\n",
    "    encode_matrix = np.zeros((samples_num, 10))\n",
    "    for i in range(samples_num):\n",
    "        encode_matrix[i][arr[i][0]] = 1\n",
    "    return encode_matrix"
   ]
  },
  {
   "cell_type": "markdown",
   "metadata": {},
   "source": [
    "#### Sigmoid calculation"
   ]
  },
  {
   "cell_type": "code",
   "execution_count": 6,
   "metadata": {
    "collapsed": true
   },
   "outputs": [],
   "source": [
    "def sigmoid(z):\n",
    "    \n",
    "    \"\"\" sigmoid function when an array is passed as parameter\"\"\"\n",
    "    \n",
    "    return 1/(1 + np.exp(-z))   \n",
    "    "
   ]
  },
  {
   "cell_type": "code",
   "execution_count": 7,
   "metadata": {
    "collapsed": true
   },
   "outputs": [],
   "source": [
    "def before_sigmoid(W, X, b):\n",
    "    \n",
    "    \"\"\" calculating Z = XW + b in matrix form and returning Z\"\"\"\n",
    "    \n",
    "    xw = np.dot(X, W.T)  \n",
    "    \n",
    "    xwplusb = np.add(xw.T, b) \n",
    "    return xwplusb   \n",
    "    "
   ]
  },
  {
   "cell_type": "markdown",
   "metadata": {},
   "source": [
    "#### Forward propagation"
   ]
  },
  {
   "cell_type": "code",
   "execution_count": 8,
   "metadata": {
    "collapsed": true
   },
   "outputs": [],
   "source": [
    "def forwardpropagation(W1, W2, A, b1, b2):\n",
    "    \n",
    "    \"\"\" performing forward propagation. returns new neurons and Zs\"\"\"\n",
    "\n",
    "    part1 = np.dot(A, W1.T)      \n",
    "    Z1 = np.add(part1.T,b1)     \n",
    "    A1 = sigmoid(Z1)            \n",
    "    \n",
    "    part2 = np.dot(W2,A1) \n",
    "    Z2 = np.add(part2,b2)       \n",
    "    A2 = sigmoid(Z2)           \n",
    "    A2 = A2.T                   \n",
    "\n",
    "     \n",
    "    return A1, A2, Z1, Z2\n",
    "         "
   ]
  },
  {
   "cell_type": "markdown",
   "metadata": {},
   "source": [
    "#### function for sigmoid prime"
   ]
  },
  {
   "cell_type": "code",
   "execution_count": 9,
   "metadata": {
    "collapsed": true
   },
   "outputs": [],
   "source": [
    "def dSigmoid(A):\n",
    "    \n",
    "    \"derivative of sigmoid function or sigmoid prime\"\n",
    "\n",
    "    return np.multiply(A, (1 - A))\n"
   ]
  },
  {
   "cell_type": "markdown",
   "metadata": {},
   "source": [
    "#### Backward prropagation"
   ]
  },
  {
   "cell_type": "code",
   "execution_count": 10,
   "metadata": {
    "collapsed": true
   },
   "outputs": [],
   "source": [
    "\"\"\" calcualte one-hot-encoding and pass the result as Y . after forward propagation pass A1, A2\"\"\"\n",
    "\n",
    "def backwardpropagation(A1, A2, Z1, Y, X):\n",
    "    \n",
    "    \"\"\" backward propagation function. the function ouputs gradient of weights and bias\"\"\"\n",
    "    \n",
    "    m = 3500\n",
    "    dZ2 = A2 - Y   \n",
    "    #print(dZ2.shape)\n",
    "    dW2 = (1/m) * np.dot(dZ2.T, A1.T) \n",
    "    db2 = (1/m) * np.sum(dZ2.T, axis=1, keepdims = True) \n",
    "    gdashZ1 = dSigmoid(A1)  \n",
    "    dZ1_firstpart = np.dot(dZ2, W2) \n",
    "    dZ1 = np.multiply(dZ1_firstpart.T, gdashZ1) \n",
    "    dW1 = (1/m) * np.dot(dZ1, X) \n",
    "    db1 = (1/m) * np.sum(dZ1, axis=1, keepdims = True) \n",
    "        \n",
    "    return dW1, dW2, db1, db2\n",
    "    "
   ]
  },
  {
   "cell_type": "markdown",
   "metadata": {},
   "source": [
    "#### gradient descent"
   ]
  },
  {
   "cell_type": "code",
   "execution_count": 11,
   "metadata": {
    "collapsed": true
   },
   "outputs": [],
   "source": [
    "def gradientDescent(dW1, dW2, db1, db2, B1, B2, W1, W2, alpha):\n",
    "    \n",
    "    \n",
    "    \"\"\" gradient descent calcualtes new weights and bais\"\"\"\n",
    "\n",
    "    \n",
    "    w2 = W2 - alpha * dW2\n",
    "    w1 = W1 - alpha * dW1\n",
    "    b1 = B1 - alpha * db1\n",
    "    b2 = B2 - alpha * db2\n",
    "    \n",
    "    return w1, w2, b1, b2 "
   ]
  },
  {
   "cell_type": "markdown",
   "metadata": {},
   "source": [
    "#### loss function"
   ]
  },
  {
   "cell_type": "code",
   "execution_count": 12,
   "metadata": {
    "collapsed": true
   },
   "outputs": [],
   "source": [
    "def lossFunction(y_en, final_A):\n",
    "    \n",
    "    \"\"\" calculating loss functions - y (is given data Y) and y1(is A2) are arrays \"\"\"\n",
    "    import math\n",
    "    loss = (-1) * np.sum(np.multiply(y_en, np.log(final_A)) + np.multiply(1 - y_en, np.log(1 - final_A)))\n",
    "    \n",
    "    return loss/3500"
   ]
  },
  {
   "cell_type": "markdown",
   "metadata": {},
   "source": [
    "#### Softmax"
   ]
  },
  {
   "cell_type": "code",
   "execution_count": 13,
   "metadata": {
    "collapsed": true
   },
   "outputs": [],
   "source": [
    "def softmax(x):\n",
    "    \n",
    "    \"\"\" softmax function final A2 is passed as parameter (e power x) / sum(e power x)\"\"\"\n",
    "    deno =  np.sum(np.exp(x), axis=1, keepdims=True)\n",
    "    deno = deno.reshape(deno.shape[0],1)\n",
    "    probs = np.exp(x) / deno\n",
    "    return probs"
   ]
  },
  {
   "cell_type": "markdown",
   "metadata": {},
   "source": [
    "#### main code calcualting for one alpha and one iteration value"
   ]
  },
  {
   "cell_type": "code",
   "execution_count": 416,
   "metadata": {
    "collapsed": true
   },
   "outputs": [],
   "source": [
    "\"\"\"the 35000 , 10000 iterations for alpha 1 produce the same output in test. so redoing just for one loop\"\"\" \n",
    "\"\"\" I took me 2 minutes to run the below function\"\"\""
   ]
  },
  {
   "cell_type": "code",
   "execution_count": 15,
   "metadata": {},
   "outputs": [],
   "source": [
    "alpha = 1\n",
    "\n",
    "\"\"\"initialising parameters\"\"\"\n",
    "#cost_alliter = []\n",
    "W1_initial, W2_initial, bias1_initial, bias2_initial  = initalize_parameters()\n",
    "\n",
    "\"\"\" assigning the weights and bias\"\"\"\n",
    "\n",
    "B1 = bias1_initial\n",
    "B2 = bias2_initial\n",
    "W1 = W1_initial\n",
    "W2 = W2_initial\n",
    "\n",
    "\"\"\"one hot encoding - applying on given Y\"\"\"\n",
    "\n",
    "Y_en = One_Hot_Encoding(y_train, 3500)\n",
    "\n",
    "\"\"\" iterations loop \"\"\"\n",
    "for i in range(0, 10000):\n",
    "    \n",
    "    A1, A2, Z1, Z2 = forwardpropagation(W1, W2, x_train, B1, B2)\n",
    "    \n",
    "    dW1, dW2, db1, db2 = backwardpropagation(A1, A2, Z1, Y_en, x_train)\n",
    "\n",
    "    w1, w2, b1, b2 = gradientDescent(dW1, dW2, db1, db2, B1, B2, W1, W2, alpha)\n",
    "    \n",
    "    B1 = b1\n",
    "    B2 = b2\n",
    "    W1 = w1\n",
    "    W2 = w2\n",
    "        \n",
    "hiddenW = W1\n",
    "outputW = W2\n",
    "finalB1 = B1\n",
    "finalB2 = B2"
   ]
  },
  {
   "cell_type": "code",
   "execution_count": 16,
   "metadata": {},
   "outputs": [
    {
     "name": "stdout",
     "output_type": "stream",
     "text": [
      "loss in training set after optimization 0.0213554982745 \n"
     ]
    }
   ],
   "source": [
    "\"\"\"calculating training loss after optimization\"\"\"\n",
    "\n",
    "train_loss = lossFunction(Y_en, A2)\n",
    "print(\"loss in training set after optimization %s \" %train_loss)"
   ]
  },
  {
   "cell_type": "code",
   "execution_count": 17,
   "metadata": {
    "collapsed": true
   },
   "outputs": [],
   "source": [
    "\"\"\" calcualting softmax for A2\"\"\"\n",
    "\n",
    "probabilities = softmax(A2)\n",
    "\n",
    "\"\"\"predicting Y after optimization for train set\"\"\"\n",
    "y_train_predict = np.argmax(probabilities, axis=1)\n",
    "y_train_predfinal = y_train_predict.reshape(probabilities.shape[0],1) # just reshaping the output to the input array. \n"
   ]
  },
  {
   "cell_type": "markdown",
   "metadata": {},
   "source": [
    "#### accuaracy calculation"
   ]
  },
  {
   "cell_type": "code",
   "execution_count": 18,
   "metadata": {
    "collapsed": true
   },
   "outputs": [],
   "source": [
    "def calc_accuracy(y_pred, y_actual):\n",
    "    count =0\n",
    "    for i in range(0, len(y_actual)):\n",
    "        if(y_pred[i] == y_actual[i]):\n",
    "            count += 1\n",
    "    return (count/len(y_pred))*100"
   ]
  },
  {
   "cell_type": "code",
   "execution_count": 19,
   "metadata": {},
   "outputs": [
    {
     "name": "stdout",
     "output_type": "stream",
     "text": [
      "Accuracy of output prediction on training set is 100.0 \n"
     ]
    }
   ],
   "source": [
    "\"\"\"train accuracy calcualtion\"\"\"\n",
    "\n",
    "train_accuracy = calc_accuracy(y_train_predfinal, y_train)\n",
    "print(\"Accuracy of output prediction on training set is %s \" %train_accuracy)"
   ]
  },
  {
   "cell_type": "markdown",
   "metadata": {},
   "source": [
    "#### Test data"
   ]
  },
  {
   "cell_type": "code",
   "execution_count": 20,
   "metadata": {},
   "outputs": [
    {
     "name": "stdout",
     "output_type": "stream",
     "text": [
      "Accuracy of output prediction on test set is 92.4 \n"
     ]
    }
   ],
   "source": [
    "\"\"\"forward propagation for test data\"\"\"\n",
    "test_A1, test_A2, test_Z1, test_Z2 = forwardpropagation(hiddenW, outputW, x_test, finalB1, finalB2)\n",
    "\n",
    "\"\"\"softmax on test data\"\"\"\n",
    "probabilities_test = softmax(test_A2)\n",
    "\n",
    "y_test_predict = np.argmax(probabilities_test, axis=1)\n",
    "y_test_predfinal = y_test_predict.reshape(probabilities_test.shape[0],1) # just reshaping the output to the input array.\n",
    "\n",
    "\" test data accuracy calcualtion\"\n",
    "test_accuracy = calc_accuracy(y_test_predfinal, y_test)\n",
    "print(\"Accuracy of output prediction on test set is %s \" %test_accuracy)"
   ]
  },
  {
   "cell_type": "markdown",
   "metadata": {},
   "source": [
    "## Code for plotting graph"
   ]
  },
  {
   "cell_type": "code",
   "execution_count": null,
   "metadata": {
    "collapsed": true
   },
   "outputs": [],
   "source": [
    "###\"\"\"the below function is taking 8 minutes approximately for me to run\"\"\""
   ]
  },
  {
   "cell_type": "code",
   "execution_count": 22,
   "metadata": {},
   "outputs": [],
   "source": [
    "#alpha = 1\n",
    "iterations = [1000, 5000, 10000]\n",
    "alphas = [1, 0.01, 0.0001]\n",
    "\"\"\"initialising parameters\"\"\"\n",
    "cost_all_alpha = []\n",
    "W1_initial, W2_initial, bias1_initial, bias2_initial  = initalize_parameters()\n",
    "\n",
    "\"\"\" assigning the weights and bias\"\"\"\n",
    "\n",
    "B1 = bias1_initial\n",
    "B2 = bias2_initial\n",
    "W1 = W1_initial\n",
    "W2 = W2_initial\n",
    "\n",
    "\"\"\"one hot encoding - applying on given Y\"\"\"\n",
    "\n",
    "Y_en = One_Hot_Encoding(y_train, 3500)\n",
    "\n",
    "for alpha in alphas:\n",
    "    \"\"\" iterations loop \"\"\"\n",
    "    cost_each_alpha = []\n",
    "    for iteration in iterations:\n",
    "        W1, W2, B1, B2  = initalize_parameters()\n",
    "        \n",
    "        for i in range(0, iteration):\n",
    "            A1, A2, Z1, Z2 = forwardpropagation(W1, W2, x_train, B1, B2)\n",
    "            dW1, dW2, db1, db2 = backwardpropagation(A1, A2, Z1, Y_en, x_train)\n",
    "            w1, w2, b1, b2 = gradientDescent(dW1, dW2, db1, db2, B1, B2, W1, W2, alpha)\n",
    "    \n",
    "            B1 = b1\n",
    "            B2 = b2\n",
    "            W1 = w1\n",
    "            W2 = w2\n",
    "        loss = lossFunction(Y_en, A2)\n",
    "        cost_each_alpha.append(loss)\n",
    "        #print(\"iteration is %s \" %iteration  )\n",
    "        #print(\"for alpha %s \" %alpha )\n",
    "    cost_all_alpha.append(cost_each_alpha)\n",
    "    #len_c = len(cost_all_alpha)\n",
    "    #print(\"length of cost_all_alpha %s\" %len_c)\n"
   ]
  },
  {
   "cell_type": "markdown",
   "metadata": {},
   "source": [
    "#### Cost vs Iterations Plot for alphas(1, 0.1, 0.01, 0.001, 0.0001)"
   ]
  },
  {
   "cell_type": "code",
   "execution_count": 23,
   "metadata": {},
   "outputs": [
    {
     "data": {
      "text/plain": [
       "<matplotlib.legend.Legend at 0xf4578d0>"
      ]
     },
     "execution_count": 23,
     "metadata": {},
     "output_type": "execute_result"
    },
    {
     "data": {
      "image/png": "[encoded data removed]",
      "text/plain": [
       "<matplotlib.figure.Figure at 0xc057e10>"
      ]
     },
     "metadata": {},
     "output_type": "display_data"
    }
   ],
   "source": [
    "\"\"\"plotting cost versus iterations for each aplha\"\"\"\n",
    "#plt.plot([1000, 5000, 10000, 15000, 20000, 25000, 30000, 35000], cost_all_alpha[0], label='1')\n",
    "##plt.plot([1000, 5000, 10000, 15000, 20000, 25000, 30000, 35000], cost_all_alpha[1], label='0.1')\n",
    "#plt.plot( [1000, 5000, 10000, 15000, 20000, 25000, 30000, 35000], cost_all_alpha[2], label='0.01')\n",
    "#plt.plot( [1000, 5000, 10000, 15000, 20000, 25000, 30000, 35000], cost_all_alpha[3], label='0.001')\n",
    "#plt.plot( [1000, 5000, 10000, 15000, 20000, 25000, 30000, 35000], cost_all_alpha[4], label='0.0001')\n",
    "plt.plot([1000, 5000, 15000], cost_all_alpha[0], label='1')\n",
    "plt.plot([1000, 5000, 15000], cost_all_alpha[1], label='0.01')\n",
    "plt.plot([1000, 5000, 15000], cost_all_alpha[2], label='0.0001')\n",
    "plt.xlabel(\"iterations\")\n",
    "plt.ylabel(\"cost\")\n",
    "plt.legend()"
   ]
  },
  {
   "cell_type": "code",
   "execution_count": null,
   "metadata": {
    "collapsed": true
   },
   "outputs": [],
   "source": []
  }
 ],
 "metadata": {
  "kernelspec": {
   "display_name": "Python 2",
   "language": "python",
   "name": "python2"
  },
  "language_info": {
   "codemirror_mode": {
    "name": "ipython",
    "version": 2
   },
   "file_extension": ".py",
   "mimetype": "text/x-python",
   "name": "python",
   "nbconvert_exporter": "python",
   "pygments_lexer": "ipython2",
   "version": "2.7.13"
  }
 },
 "nbformat": 4,
 "nbformat_minor": 2
}
