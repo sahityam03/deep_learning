{
 "cells": [
  {
   "cell_type": "code",
   "execution_count": 13,
   "metadata": {},
   "outputs": [],
   "source": [
    "from __future__ import division\n",
    "import pandas as pd\n",
    "import numpy as np\n",
    "%matplotlib inline \n",
    "import matplotlib.pyplot as plt\n",
    "import tensorflow as tf\n"
   ]
  },
  {
   "cell_type": "markdown",
   "metadata": {},
   "source": [
    "### Reading data"
   ]
  },
  {
   "cell_type": "code",
   "execution_count": 15,
   "metadata": {},
   "outputs": [],
   "source": [
    "\"\"\"Read train and test data \"\"\"\n",
    "train_data = pd.read_csv('ex4_train.csv')\n",
    "test_data = pd.read_csv('ex4_test.csv')\n",
    "\n",
    "\"\"\"x and y of train data\"\"\"\n",
    "X_train_df = train_data.iloc[:,1:-1]\n",
    "Y_train_df = pd.DataFrame(train_data.y)\n",
    "\n",
    "\n",
    "\"\"\"x and y of test data\"\"\"\n",
    "X_test_df = test_data.iloc[:,1:-1]\n",
    "Y_test_df = pd.DataFrame(test_data.y)\n",
    "#print(X_train_df.shape)\n"
   ]
  },
  {
   "cell_type": "code",
   "execution_count": 16,
   "metadata": {},
   "outputs": [],
   "source": [
    "\"\"\"Convert train x and y into matrices\"\"\"\n",
    "x_train = np.array(X_train_df)  \n",
    "y1_train = np.array(Y_train_df)  \n",
    "\n",
    "\n",
    "\"\"\"Convert test x and y into matrices\"\"\"\n",
    "x_test = np.array(X_test_df)  \n",
    "y1_test = np.array(Y_test_df)  \n",
    "\n",
    "y_1 = y1_train.reshape(3500)\n",
    "y_1_test = y1_test.reshape(1500,)\n",
    "\n",
    "y_train = y_1\n",
    "y_test = y_1_test\n",
    "\n"
   ]
  },
  {
   "cell_type": "code",
   "execution_count": 17,
   "metadata": {},
   "outputs": [
    {
     "name": "stdout",
     "output_type": "stream",
     "text": [
      "Train data accuracy :  100.0\n",
      "Test data accuracy: 94.46666836738586\n"
     ]
    }
   ],
   "source": [
    "test_accuracy = []\n",
    "train_accuracy = []\n",
    "learning_rate = 0.001\n",
    "probs = [0.3, 0.7, 0.8, 0.9]\n",
    "graph = tf.Graph()\n",
    "with graph.as_default():\n",
    "    # init weights\n",
    "    tf.set_random_seed(1)\n",
    "    W1 = tf.get_variable(\"W1\", shape=[150, 400], initializer=tf.contrib.layers.xavier_initializer())\n",
    "    #b1 = tf.get_variable(\"b1\", shape=[100, 1], initializer=tf.contrib.layers.xavier_initializer())\n",
    "\n",
    "    # and the weights connecting the hidden layer to the output layer\n",
    "    W2 = tf.get_variable(\"W2\", shape=[70, 150], initializer=tf.contrib.layers.xavier_initializer() )\n",
    "    #b2 = tf.get_variable(\"b2\", shape=[25, 1], initializer=tf.contrib.layers.xavier_initializer())\n",
    "\n",
    "\n",
    "    W3 = tf.get_variable(\"W3\", shape=[10, 70], initializer=tf.contrib.layers.xavier_initializer() )\n",
    "\n",
    "    b1 = tf.zeros([150, 1], tf.float32)\n",
    "    b2 = tf.zeros([70, 1], tf.float32)\n",
    "    b3 = tf.zeros([10, 1], tf.float32)\n",
    "\n",
    "    x = tf.placeholder(\"float32\", [None, 400])\n",
    "    y = tf.placeholder(\"int32\", [None,])\n",
    "    keep_prob = tf.placeholder(tf.float32)\n",
    "    #keep_prob2 = tf.placeholder(tf.float32)\n",
    "    y_en = tf.one_hot(y, 10, on_value=1.0, off_value=0.0, axis=-1)\n",
    "\n",
    "    def model(x, W1, W2, W3, b1, b2, b3):\n",
    "        # hidden layer with RELU activation\n",
    "        A1 = tf.nn.relu(tf.add(tf.transpose(tf.matmul(x, tf.transpose(W1))), b1))\n",
    "        # apply DropOut to hidden layer\n",
    "          # DROP-OUT here\n",
    "        drop_out_A1 = tf.nn.dropout(A1, keep_prob)  # DROP-OUT here\n",
    "        \n",
    "        A2 = tf.nn.relu(tf.add(tf.matmul(W2, drop_out_A1), b2))\n",
    "        # output layer with linear activation\n",
    "        drop_out_A2 = tf.nn.dropout(A2, keep_prob)\n",
    "        \n",
    "        A3 = tf.nn.sigmoid(tf.add(tf.matmul(W3, drop_out_A2), b3))\n",
    "        #A3 = tf.nn.sigmoid(tf.add(tf.matmul(W3, A2), b3))\n",
    "        A3 = tf.transpose(A3)\n",
    "        return A3\n",
    "\n",
    "    # Construct model\n",
    "    \n",
    "    pred = model(x, W1, W2, W3, b1, b2, b3)\n",
    "    soft = tf.nn.softmax(pred)\n",
    "\n",
    "    # Define loss and optimizer\n",
    "    #cost = tf.reduce_mean(tf.nn.softmax_cross_entropy_with_logits(pred, y_en))\n",
    "    y_clipped = tf.clip_by_value(pred, 1e-10, 0.9999999)\n",
    "    cost = (-1) * tf.reduce_sum(tf.multiply(y_en, tf.log(y_clipped)) + tf.multiply(1 - y_en, tf.log(1 - y_clipped)))\n",
    "    optimizer = tf.train.AdamOptimizer(learning_rate=learning_rate).minimize(cost)\n",
    "\n",
    "# run the grap\n",
    "    \n",
    "with tf.Session(graph=graph) as sess:\n",
    "    \n",
    "    for p in probs:\n",
    "        \n",
    "        tf.global_variables_initializer().run()\n",
    "      \n",
    "        # Training cycle\n",
    "\n",
    "        for epoch in range(1001):\n",
    "            _, c = sess.run([optimizer, cost], feed_dict={x: x_train, y: y_train, keep_prob : p})\n",
    "                # Compute average loss\n",
    "            totalcost = c / 3500\n",
    "            \n",
    "\n",
    "       \n",
    "        correct_prediction = tf.equal(tf.argmax(soft, 1), tf.argmax(y_en, 1))\n",
    "        \n",
    "        # Calculate accuracy\n",
    "        accuracy = tf.reduce_mean(tf.cast(correct_prediction, \"float\"))\n",
    "       \n",
    "        train_accuracy.append(accuracy.eval({x: x_train, y: y_train, keep_prob : 1.0}))\n",
    "        test_accuracy.append(accuracy.eval({x: x_test, y: y_test, keep_prob : 1.0}))\n",
    "        if(p == 0.8):\n",
    "            print(\"Train data accuracy : \", 100 * accuracy.eval({x: x_train, y: y_train, keep_prob : 1.0}))\n",
    "            print(\"Test data accuracy:\", 100 * accuracy.eval({x: x_test, y: y_test, keep_prob : 1.0}))\n",
    "        \n",
    "    #i = tf.argmax(test_accuracy)\n",
    "   \n",
    "            \n",
    "        "
   ]
  },
  {
   "cell_type": "code",
   "execution_count": 18,
   "metadata": {},
   "outputs": [
    {
     "data": {
      "text/plain": [
       "<matplotlib.legend.Legend at 0x283c73a0cc0>"
      ]
     },
     "execution_count": 18,
     "metadata": {},
     "output_type": "execute_result"
    },
    {
     "data": {
      "image/png": "[encoded data removed]",
      "text/plain": [
       "<matplotlib.figure.Figure at 0x283cd22aa90>"
      ]
     },
     "metadata": {},
     "output_type": "display_data"
    }
   ],
   "source": [
    "plt.plot(probs, train_accuracy, label='train accuracy')\n",
    "plt.plot(probs, test_accuracy, label='test accuracy')\n",
    "plt.xlabel(\"dropout\")\n",
    "plt.ylabel(\"accuracy\")\n",
    "plt.legend()"
   ]
  }
 ],
 "metadata": {
  "kernelspec": {
   "display_name": "Python 3",
   "language": "python",
   "name": "python3"
  },
  "language_info": {
   "codemirror_mode": {
    "name": "ipython",
    "version": 3
   },
   "file_extension": ".py",
   "mimetype": "text/x-python",
   "name": "python",
   "nbconvert_exporter": "python",
   "pygments_lexer": "ipython3",
   "version": "3.5.4"
  }
 },
 "nbformat": 4,
 "nbformat_minor": 2
}
