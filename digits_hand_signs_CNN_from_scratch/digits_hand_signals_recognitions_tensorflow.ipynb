{
 "cells": [
  {
   "cell_type": "code",
   "execution_count": 1,
   "metadata": {},
   "outputs": [],
   "source": [
    "from __future__ import division\n",
    "import pandas as pd\n",
    "import numpy as np\n",
    "%matplotlib inline \n",
    "import matplotlib.pyplot as plt\n",
    "import tensorflow as tf\n"
   ]
  },
  {
   "cell_type": "code",
   "execution_count": 2,
   "metadata": {},
   "outputs": [
    {
     "name": "stdout",
     "output_type": "stream",
     "text": [
      "(1020, 64, 64, 3)\n",
      "(1020, 1)\n",
      "(180, 64, 64, 3)\n"
     ]
    }
   ],
   "source": [
    "\"\"\" Reading data\"\"\"\n",
    "\n",
    "train_x = np.load('exam2_train_x.npy', mmap_mode='r')\n",
    "train_y = np.load('exam2_train_y.npy', mmap_mode='r')\n",
    "test_x = np.load('exam2_test_x.npy', mmap_mode='r')\n",
    "test_y = np.load('exam2_test_y.npy', mmap_mode='r')\n",
    "\n",
    "\"\"\"normalising data_x\"\"\"\n",
    "train_x_norm = (train_x / 255) - 0.5\n",
    "test_x_norm = (test_x / 255) - 0.5\n",
    "\n",
    "train_y_reshape = train_y.reshape(1020,1)\n",
    "test_y_reshape = test_y.reshape(180, 1)\n",
    "\n",
    "\n",
    "#print(data_y1.shape)\n",
    "print(train_x_norm.shape)\n",
    "print(train_y_reshape.shape)\n",
    "print(test_x.shape)"
   ]
  },
  {
   "cell_type": "code",
   "execution_count": 3,
   "metadata": {},
   "outputs": [],
   "source": [
    "\"\"\"Function for One hot encoding. input Y as an array and no.of samples is passed to the function\"\"\"\n",
    "\n",
    "def One_Hot_Encoding(arr, samples_num):\n",
    "    encode_matrix = np.zeros((samples_num, 6))\n",
    "    for i in range(samples_num):\n",
    "        encode_matrix[i][arr[i][0]] = 1\n",
    "    return encode_matrix"
   ]
  },
  {
   "cell_type": "code",
   "execution_count": 4,
   "metadata": {},
   "outputs": [],
   "source": [
    "\"\"\" applying one-hot encoding on train and test y\"\"\"\n",
    "\n",
    "train_y_encode = One_Hot_Encoding(train_y_reshape, len(train_y_reshape))\n",
    "test_y_encode = One_Hot_Encoding(test_y_reshape, len(test_y_reshape))"
   ]
  },
  {
   "cell_type": "code",
   "execution_count": 5,
   "metadata": {},
   "outputs": [
    {
     "name": "stdout",
     "output_type": "stream",
     "text": [
      "(1020, 6)\n",
      "(180, 6)\n"
     ]
    }
   ],
   "source": [
    "print(train_y_encode.shape)\n",
    "print(test_y_encode.shape)"
   ]
  },
  {
   "cell_type": "code",
   "execution_count": 10,
   "metadata": {},
   "outputs": [],
   "source": [
    "\"\"\"forward propagation. convolution and fully connected. dropout is applied as regularization for fully conencted layers\"\"\"\n",
    "\n",
    "def frwd_propagation(X_input, weights, bias):\n",
    "      \n",
    "    \n",
    "    W1, W2 = weights\n",
    "    B1, B2 = bias\n",
    "    # first convolution with relu as activation\n",
    "    conv1 = tf.nn.conv2d(X_input, W1, strides = [1,2,2,1], padding = 'SAME')\n",
    "    print(\"conv1 layer shape\")\n",
    "    print(conv1.shape)\n",
    "    Z1 = tf.nn.bias_add(conv1, B1)\n",
    "    A1 = tf.nn.relu(Z1)\n",
    "    #max pooling\n",
    "    pool1 = tf.nn.max_pool(A1, ksize = [1,5,5,1], strides = [1,1,1,1], padding = 'SAME')\n",
    "    print(\"pool1 shape\")\n",
    "    print(pool1.shape)\n",
    "    # 2nd convolution layer with relu as activation\n",
    "    conv2 = tf.nn.conv2d(pool1, W2, strides = [1,2,2,1], padding = 'SAME')\n",
    "    Z2 = tf.nn.bias_add(conv2, B2)\n",
    "    A2 = tf.nn.relu(Z2)\n",
    "    print(\"conv2 shape\")\n",
    "    print(conv2.shape)\n",
    "    #avg pooling\n",
    "    #Pool2 = tf.nn.max_pool(A2, ksize = [1,4,4,1], strides = [1,1,1,1], padding = 'SAME')\n",
    "    pool2 = tf.nn.avg_pool(A2, ksize = [1,4,4,1], strides = [1,1,1,1], padding = 'SAME', data_format='NHWC', name=None)\n",
    "    print(\"pool2 shape before unfaltten\")\n",
    "    print(pool2.shape)\n",
    "    pool2 = tf.contrib.layers.flatten(pool2)\n",
    "    print(\"pool2 shape after flatten\")\n",
    "    print(pool2.shape)\n",
    "    #fully connected layer relu as activation\n",
    "    Z3 = tf.contrib.layers.fully_connected(pool2, 108, activation_fn=None)\n",
    "    A3 = tf.nn.relu(Z3)\n",
    "    #dropout regularization\n",
    "    drop_out_A3 = tf.nn.dropout(A3, 0.95)\n",
    "    Z4 = tf.contrib.layers.fully_connected(drop_out_A3, 6, activation_fn=None)\n",
    "    A4 = tf.nn.sigmoid(Z4)\n",
    "    \n",
    "    \n",
    "\n",
    "    return A4"
   ]
  },
  {
   "cell_type": "code",
   "execution_count": 11,
   "metadata": {},
   "outputs": [],
   "source": [
    "\"\"\"function to initialize weights and bias for convolution 2 layers\"\"\"\n",
    "def initialize_weights():\n",
    "    \n",
    "    tf.set_random_seed(1)                              \n",
    "        \n",
    "    W1 = tf.get_variable('W1',[4, 4, 3, 8], initializer = tf.contrib.layers.xavier_initializer(seed = 0))\n",
    "    W2 = tf.get_variable('W2',[4, 4, 8, 16], initializer = tf.contrib.layers.xavier_initializer(seed = 0))\n",
    "    B1 = tf.zeros([8], tf.float32)\n",
    "    B2 = tf.zeros([16], tf.float32)\n",
    "    weights = ( W1, W2)\n",
    "    bias = ( B1,  B2)\n",
    "    \n",
    "    return weights, bias"
   ]
  },
  {
   "cell_type": "code",
   "execution_count": 12,
   "metadata": {},
   "outputs": [],
   "source": [
    "def model(X_train, Y_train, X_test, Y_test, learning_rate = 0.002, iterations = 100, minibatch_size = 60):\n",
    "\n",
    "    tf.set_random_seed(1)                                                                       \n",
    "    (m, n_h, n_w, n_c) = X_train.shape             \n",
    "    n_y = Y_train.shape[1]                            \n",
    "    costs = [] \n",
    "    seed = 3\n",
    "    weights, bias = initialize_weights()\n",
    "    W1, W2 = weights\n",
    "    X = tf.placeholder(tf.float32, shape=[None, n_h, n_w, n_c])\n",
    "    Y = tf.placeholder(tf.float32, shape=[None, n_y])\n",
    "    #forward propagation\n",
    "    Z4 = frwd_propagation(X, weights, bias)\n",
    "    #calcualting cost\n",
    "    cost_total = tf.nn.softmax_cross_entropy_with_logits(logits = Z4, labels = Y)\n",
    "    #l2 regularization\n",
    "    #regularizer = tf.nn.l2_loss(W1) + tf.nn.l2_loss(W2)\n",
    "    #cost = tf.reduce_mean(cost_total + 0.001 * regularizer)\n",
    "    cost = tf.reduce_mean(cost_total )\n",
    "    #back propagation\n",
    "    adamoptimizer = tf.train.AdamOptimizer(learning_rate=learning_rate).minimize(cost)\n",
    "    \n",
    "    with tf.Session() as sess:\n",
    "        \n",
    "        sess.run(tf.global_variables_initializer())\n",
    "        \n",
    "        for iteration in range(iterations):\n",
    "            \n",
    "            cost_min_batch = 0\n",
    "            seed = seed + 1\n",
    "            \n",
    "            minbatches = generate_min_batch(X_train, Y_train, seed, minibatch_size)\n",
    "            minbatch_num = int(m / minibatch_size)\n",
    "            for batch in minbatches:\n",
    "\n",
    "                (min_batch_X, min_batch_Y) = batch\n",
    "                _ , cost_single_batch = sess.run([adamoptimizer, cost], feed_dict={X: min_batch_X, Y: min_batch_Y})\n",
    "                cost_min_batch += cost_single_batch / minbatch_num\n",
    "                \n",
    "            #if iteration % 5 == 0:\n",
    "                #print(\"cost is %s \" %cost_min_batch)\n",
    "            \n",
    "            if iteration % 1 == 0:\n",
    "                costs.append(cost_min_batch) \n",
    "\n",
    "        # Calculate correct predictions\n",
    "        predict_y = tf.argmax(Z4, 1)\n",
    "        correct_prediction = tf.equal(predict_y, tf.argmax(Y, 1))\n",
    "        \n",
    "        # Calculate accuracy on the TRAIN SET AND test set\n",
    "        accuracy = 100 * tf.reduce_mean(tf.cast(correct_prediction, \"float\"))\n",
    "        train_accuracy = accuracy.eval({X: X_train, Y: Y_train})\n",
    "        test_accuracy = accuracy.eval({X: X_test, Y: Y_test})\n",
    "        print(\"Train Accuracy:\", train_accuracy)\n",
    "        print(\"Test Accuracy:\", test_accuracy)\n",
    "        #new_y = predict_y.eval({X: X_train, Y: Y_train})\n",
    "        #print(new_y)\n",
    "                \n",
    "        return train_accuracy, test_accuracy, weights, bias, costs"
   ]
  },
  {
   "cell_type": "code",
   "execution_count": 13,
   "metadata": {},
   "outputs": [],
   "source": [
    "def generate_min_batch(X_train, Y_train, seed, minbatch_size):\n",
    "    m = X_train.shape[0]\n",
    "    #print(\"this is m %s\" %m)\n",
    "    np.random.seed(seed)\n",
    "    random_p = np.random.permutation(m)\n",
    "    #print(\"permutaion %s \" %random_p)\n",
    "    X_shuffled = X_train[random_p, :]\n",
    "    Y_shuffled = Y_train[random_p, :]\n",
    "    \n",
    "    num_min_batches = m/minbatch_size\n",
    "    min_batches = []\n",
    "    for i in range(0, int(num_min_batches)):\n",
    "        batch_X = X_shuffled[i * minbatch_size:(i + 1) * minbatch_size, :]\n",
    "        batch_Y = Y_shuffled[i * minbatch_size:(i + 1) * minbatch_size, : ] \n",
    "        min_full_batch = (batch_X, batch_Y)\n",
    "        min_batches.append(min_full_batch)\n",
    "    \n",
    "    return min_batches\n",
    "    "
   ]
  },
  {
   "cell_type": "code",
   "execution_count": 14,
   "metadata": {},
   "outputs": [
    {
     "name": "stderr",
     "output_type": "stream",
     "text": [
      "C:\\Users\\sahitya\\Anaconda2\\envs\\tensorflow\\lib\\site-packages\\h5py\\__init__.py:36: FutureWarning: Conversion of the second argument of issubdtype from `float` to `np.floating` is deprecated. In future, it will be treated as `np.float64 == np.dtype(float).type`.\n",
      "  from ._conv import register_converters as _register_converters\n"
     ]
    },
    {
     "name": "stdout",
     "output_type": "stream",
     "text": [
      "conv1 layer shape\n",
      "(?, 32, 32, 8)\n",
      "pool1 shape\n",
      "(?, 32, 32, 8)\n",
      "conv2 shape\n",
      "(?, 16, 16, 16)\n",
      "pool2 shape before unfaltten\n",
      "(?, 16, 16, 16)\n",
      "pool2 shape after flatten\n",
      "(?, 4096)\n",
      "Train Accuracy: 99.80392\n",
      "Test Accuracy: 95.0\n"
     ]
    }
   ],
   "source": [
    "from datetime import datetime\n",
    "start=datetime.now()\n",
    "train_accuracy, test_accuracy, weights, bias, costs = model(train_x_norm, train_y_encode, test_x_norm, test_y_encode)\n",
    "end = datetime.now() - start\n",
    "#print(end)"
   ]
  },
  {
   "cell_type": "code",
   "execution_count": 15,
   "metadata": {},
   "outputs": [
    {
     "data": {
      "text/plain": [
       "<matplotlib.table.Table at 0x220d1902fd0>"
      ]
     },
     "execution_count": 15,
     "metadata": {},
     "output_type": "execute_result"
    },
    {
     "data": {
      "image/png": "[encoded data removed]",
      "text/plain": [
       "<matplotlib.figure.Figure at 0x220d294ea20>"
      ]
     },
     "metadata": {},
     "output_type": "display_data"
    }
   ],
   "source": [
    "\"\"\"architecture -tabular representation\"\"\"\n",
    "\n",
    "fig, ax = plt.subplots(figsize=(20, 5))\n",
    "\n",
    "# Hide axes\n",
    "ax.xaxis.set_visible(False) \n",
    "ax.yaxis.set_visible(False)\n",
    "\n",
    "\n",
    "data = [['0', 'Input', '64x64', '3', '', '', '', ''], ['1', 'Convolution(C1)', '32x32', '8', '4x4', '2', 'SAME', 'ReLU'],\n",
    "           ['2', 'Pooling(P1)', '32x32', '8', '5x5', '1', 'SAME', 'max'],\n",
    "           ['3', 'Convolution(C2)', '16x16', '16', '4x4', '2', 'SAME', 'ReLU'],\n",
    "           ['4', 'Pooling(P2)', '16x16', '16', '5x5', '1', 'SAME', 'avg'],\n",
    "           ['5', 'Flatten(F3)', '4096', '', '', '', '', ''],\n",
    "           ['6', 'Fully Connected(F4)', '108', '', '', '', '', 'ReLU' ],\n",
    "           ['7', 'Fully Connected(F5)', '6', '', '', '', '', 'Sigmoid']\n",
    "          ]\n",
    "collabel=(\"Layer\", \"Type\", \"Size\", \"Channels\", \"Kernel Size\", \"Stride\", \"Padding\", \"Function\" )\n",
    "ax.table(cellText=data,colLabels=collabel,loc='center')"
   ]
  },
  {
   "cell_type": "code",
   "execution_count": 16,
   "metadata": {},
   "outputs": [
    {
     "data": {
      "text/plain": [
       "Text(0,0.5,'cost')"
      ]
     },
     "execution_count": 16,
     "metadata": {},
     "output_type": "execute_result"
    },
    {
     "data": {
      "image/png": "[encoded data removed]",
      "text/plain": [
       "<matplotlib.figure.Figure at 0x220d2970630>"
      ]
     },
     "metadata": {},
     "output_type": "display_data"
    }
   ],
   "source": [
    "iteration = range(0, 100)\n",
    "plt.plot(iteration, costs)\n",
    "plt.xlabel(\"iteration\")\n",
    "plt.ylabel(\"cost\")"
   ]
  },
  {
   "cell_type": "code",
   "execution_count": 17,
   "metadata": {},
   "outputs": [
    {
     "name": "stdout",
     "output_type": "stream",
     "text": [
      "Train accuracy of the model is 99.80392\n",
      "Test accuracy of the model is 95.0 \n"
     ]
    }
   ],
   "source": [
    "print(\"Train accuracy of the model is %s\" %train_accuracy)\n",
    "print(\"Test accuracy of the model is %s \" %test_accuracy)"
   ]
  },
  {
   "cell_type": "code",
   "execution_count": null,
   "metadata": {},
   "outputs": [],
   "source": []
  }
 ],
 "metadata": {
  "kernelspec": {
   "display_name": "Python 3",
   "language": "python",
   "name": "python3"
  },
  "language_info": {
   "codemirror_mode": {
    "name": "ipython",
    "version": 3
   },
   "file_extension": ".py",
   "mimetype": "text/x-python",
   "name": "python",
   "nbconvert_exporter": "python",
   "pygments_lexer": "ipython3",
   "version": "3.5.4"
  }
 },
 "nbformat": 4,
 "nbformat_minor": 2
}
