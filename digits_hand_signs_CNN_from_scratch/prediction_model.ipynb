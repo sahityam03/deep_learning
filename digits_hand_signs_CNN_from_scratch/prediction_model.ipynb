{
 "cells": [
  {
   "cell_type": "code",
   "execution_count": 28,
   "metadata": {},
   "outputs": [],
   "source": [
    "from __future__ import division\n",
    "import pandas as pd\n",
    "import numpy as np\n",
    "%matplotlib inline \n",
    "import matplotlib.pyplot as plt\n",
    "import tensorflow as tf\n"
   ]
  },
  {
   "cell_type": "code",
   "execution_count": 29,
   "metadata": {},
   "outputs": [],
   "source": [
    "\"\"\" Reading data\"\"\"\n",
    "\n",
    "data_x = np.load('ex5_train_x.npy', mmap_mode='r')\n",
    "data_y = np.load('ex5_train_y.npy', mmap_mode='r')\n",
    "\n",
    "\"\"\"normalising data_x\"\"\"\n",
    "data_x1 = (data_x / 255) - 0.5\n",
    "#print(data_y.shape)\n",
    "data_y1 = data_y.reshape(1020,1)\n",
    "#print(data_y1.shape)\n"
   ]
  },
  {
   "cell_type": "code",
   "execution_count": 30,
   "metadata": {},
   "outputs": [],
   "source": [
    "def zero_padding(data, padding):\n",
    "    m = len(data)\n",
    "    data_padded = np.zeros((data.shape[0], data.shape[1]+2, data.shape[2]+2, data.shape[3]))\n",
    "    for i in range(m):\n",
    "        data_T = data[i].T\n",
    "        data_temp = np.zeros((data_T.shape[0], data_T.shape[1]+2, data_T.shape[2]+2))\n",
    "        for j in range(0, len(data_T)):\n",
    "            temp = np.pad(data_T[j], (padding, padding), 'constant', constant_values=(0))\n",
    "            data_temp[j] = temp\n",
    "        data_padded[i] = data_temp.T\n",
    "    return data_padded\n",
    "            \n",
    "    "
   ]
  },
  {
   "cell_type": "code",
   "execution_count": 31,
   "metadata": {},
   "outputs": [],
   "source": [
    "def conv_forward(padding, stride, data, filter_size, filters, bias):\n",
    "    \n",
    "    m = len(data)\n",
    "    image_size = data.shape[1]\n",
    "    filters_number = filters.shape[3]\n",
    "    if(padding > 0):\n",
    "        data_aftr_pad = zero_padding(data_x1, padding)\n",
    "    else:\n",
    "        data_aftr_pad = data\n",
    "        \n",
    "    output_size = ((image_size + 2*padding - filter_size) / stride) + 1\n",
    "    #output_size = ((image_size - filter_size) / stride) + 1\n",
    "    #print(\"this is output size %s \" %output_size)\n",
    "    output = np.zeros((m, int(output_size), int(output_size), filters_number)) \n",
    "    n_h = output.shape[1]\n",
    "    n_w = output.shape[2]\n",
    "    n_ch = output.shape[3]\n",
    "    for i in range(m):\n",
    "        #data_each = data[i, :]\n",
    "        data_each = data_aftr_pad[i, :]\n",
    "        for h in range(n_h):\n",
    "            vert_start = h * stride\n",
    "            vert_end = h * stride + filter_size\n",
    "            if(vert_end > data_each.shape[0]):\n",
    "                break\n",
    "            for w in range(n_w):\n",
    "                horiz_start = w * stride\n",
    "                horiz_end = w * stride + filter_size\n",
    "                if(horiz_end > data_each.shape[1]):\n",
    "                    break\n",
    "                for c in range(n_ch):\n",
    "                    a_slice = data_each[vert_start:vert_end, horiz_start:horiz_end, :]\n",
    "                    #print(a_slice)\n",
    "                    output[i, h, w, c] = conv_single_step1(a_slice, filters[:, :, :, c], bias[:, :, :, c])\n",
    "    #print(\"endtime %s\")\n",
    "    #print(time.time())\n",
    "    cache = (data, filters, bias, padding, stride)\n",
    "    return output, cache      \n",
    "        \n",
    "    "
   ]
  },
  {
   "cell_type": "code",
   "execution_count": 32,
   "metadata": {},
   "outputs": [],
   "source": [
    "def conv_single_step1(a_slice_prev, W, bias):\n",
    "   \n",
    "    sum = np.multiply(a_slice_prev, W) + bias\n",
    "    Z = np.sum(sum)\n",
    "    \n",
    "    return Z"
   ]
  },
  {
   "cell_type": "code",
   "execution_count": 33,
   "metadata": {},
   "outputs": [],
   "source": [
    "\"\"\"pooling - mode is either 'max' or 'avg' \"\"\"\n",
    "\n",
    "def pool_forward(padding, stride, data, filter_size, mode):\n",
    "    m = len(data)\n",
    "    image_size = data.shape[1]\n",
    "    filters_number = data.shape[3]\n",
    "    output_size = ((image_size + 2 * padding - filter_size) / stride) + 1\n",
    "    output = np.zeros((m, int(output_size), int(output_size), filters_number)) \n",
    "    n_h = output.shape[1]\n",
    "    n_w = output.shape[2]\n",
    "    n_ch = output.shape[3]\n",
    "    for i in range(m):\n",
    "        for h in range(n_h):\n",
    "            vert_start = h * stride\n",
    "            vert_end = h * stride + filter_size\n",
    "            if(vert_end > data.shape[1]):\n",
    "                break\n",
    "            for w in range(n_w):\n",
    "                horiz_start = w * stride\n",
    "                horiz_end = w * stride + filter_size\n",
    "                if(horiz_end > data.shape[2]):\n",
    "                    break\n",
    "                for c in range(n_ch):\n",
    "                    a_slice = data[i,vert_start:vert_end, horiz_start:horiz_end, c]\n",
    "                    if (mode == 'max'):\n",
    "                        output[i, h, w, c] = np.max(a_slice)\n",
    "                    elif (mode == 'avg'):\n",
    "                        output[i, h, w, c] = np.mean(a_slice)\n",
    "    cache = (data, stride, padding, filter_size)\n",
    "    return output, cache                    \n",
    "                        "
   ]
  },
  {
   "cell_type": "code",
   "execution_count": 34,
   "metadata": {},
   "outputs": [],
   "source": [
    "\"\"\"ReLU activation\"\"\"\n",
    "\n",
    "def relu_activation(data_array):\n",
    "    return np.maximum(data_array, 0)"
   ]
  },
  {
   "cell_type": "code",
   "execution_count": 35,
   "metadata": {},
   "outputs": [],
   "source": [
    "def dRelu(data_array):\n",
    "    data_array[data_array<=0] = 0\n",
    "    data_array[data_array>0] = 1\n",
    "    return data_array"
   ]
  },
  {
   "cell_type": "code",
   "execution_count": 36,
   "metadata": {},
   "outputs": [],
   "source": [
    "\"\"\"Function for One hot encoding. input Y as an array and no.of samples is passed to the function\"\"\"\n",
    "\n",
    "def One_Hot_Encoding(arr, samples_num):\n",
    "    encode_matrix = np.zeros((samples_num, 6))\n",
    "    for i in range(samples_num):\n",
    "        encode_matrix[i][arr[i][0]] = 1\n",
    "    return encode_matrix"
   ]
  },
  {
   "cell_type": "code",
   "execution_count": 37,
   "metadata": {},
   "outputs": [],
   "source": [
    "Y_en = One_Hot_Encoding(data_y1, len(data_y1))"
   ]
  },
  {
   "cell_type": "code",
   "execution_count": 38,
   "metadata": {},
   "outputs": [],
   "source": [
    "def forwardpropagation(W1, W2, A, b1, b2):\n",
    "    \n",
    "    \"\"\" performing forward propagation. returns new neurons and Zs\"\"\"\n",
    "\n",
    "    part1 = np.dot(A, W1.T)      #\n",
    "    Z1 = np.add(part1.T,b1)     #\n",
    "    #A1 = sigmoid(Z1)            #\n",
    "    A1 = relu_activation(Z1)\n",
    "    \n",
    "    part2 = np.dot(W2,A1) \n",
    "    Z2 = np.add(part2,b2)       #\n",
    "    A2 = sigmoid(Z2)           # \n",
    "    A2 = A2.T                   #\n",
    "\n",
    "     \n",
    "    return A1, A2, Z1, Z2\n",
    "         "
   ]
  },
  {
   "cell_type": "code",
   "execution_count": 39,
   "metadata": {},
   "outputs": [],
   "source": [
    "def sigmoid(z):\n",
    "    \n",
    "    \"\"\" sigmoid function when an array is passed as parameter\"\"\"\n",
    "    \n",
    "    return 1/(1 + np.exp(-z))   "
   ]
  },
  {
   "cell_type": "code",
   "execution_count": 40,
   "metadata": {},
   "outputs": [],
   "source": [
    "def dSigmoid(A):\n",
    "    \n",
    "    \"derivative of sigmoid function or sigmoid prime\"\n",
    "\n",
    "    return np.multiply(A, (1 - A))"
   ]
  },
  {
   "cell_type": "code",
   "execution_count": 41,
   "metadata": {},
   "outputs": [],
   "source": [
    "\n",
    "def backwardpropagation(A1, A2, Z1, Y, X):\n",
    "    \n",
    "    \"\"\" backward propagation function. the function ouputs gradient of weights and bias\"\"\"\n",
    "    \n",
    "    m = len(A1)\n",
    "    dZ2 = A2 - Y   #\n",
    "    #print(dZ2.shape)\n",
    "    dW2 = (1/m) * np.dot(dZ2.T, A1.T) #\n",
    "    db2 = (1/m) * np.sum(dZ2.T, axis=1, keepdims = True) \n",
    "    #gdashZ1 = dSigmoid(A1)  #\n",
    "    gdashZ1 = dRelu(A1)\n",
    "    dZ1_firstpart = np.dot(dZ2, W2) # \n",
    "    dZ1 = np.multiply(dZ1_firstpart.T, gdashZ1) # \n",
    "    dW1 = (1/m) * np.dot(dZ1, X) # \n",
    "    db1 = (1/m) * np.sum(dZ1, axis=1, keepdims = True) \n",
    "    dA0 = np.dot(dZ1.T, W1)\n",
    "        \n",
    "    return dW1, dW2, db1, db2, dA0"
   ]
  },
  {
   "cell_type": "code",
   "execution_count": 42,
   "metadata": {},
   "outputs": [],
   "source": [
    "def gradientDescent(dW1, dW2, db1, db2, B1, B2, W1, W2, alpha):\n",
    "    \n",
    "    \n",
    "    \"\"\" gradient descent calcualtes new weights and bais\"\"\"\n",
    "\n",
    "    \n",
    "    w2 = W2 - alpha * dW2\n",
    "    w1 = W1 - alpha * dW1\n",
    "    b1 = B1 - alpha * db1\n",
    "    b2 = B2 - alpha * db2\n",
    "    \n",
    "    return w1, w2, b1, b2 "
   ]
  },
  {
   "cell_type": "code",
   "execution_count": 43,
   "metadata": {},
   "outputs": [],
   "source": [
    "def lossFunction(y_en, final_A1):\n",
    "    \n",
    "    \"\"\" calculating loss functions - y (is given data Y) and y1(is A2) are arrays \"\"\"\n",
    "    import math\n",
    "    m = len(final_A1)\n",
    "    final_A = np.clip(final_A1, 0.0001, 0.99999)\n",
    "    loss = (-1/m) * np.sum(np.multiply(y_en, np.log(final_A)) + np.multiply(1 - y_en, np.log(1 - final_A)))\n",
    "    \n",
    "    return loss"
   ]
  },
  {
   "cell_type": "code",
   "execution_count": 44,
   "metadata": {},
   "outputs": [],
   "source": [
    "def softmax(x):\n",
    "    \n",
    "    \"\"\" softmax function final A2 is passed as parameter (e power x) / sum(e power x)\"\"\"\n",
    "    E = np.exp(x)\n",
    "    deno =  np.sum(np.exp(x), axis=1, keepdims=True)\n",
    "    deno = deno.reshape(deno.shape[0],1)\n",
    "    probs = E / deno\n",
    "    return probs"
   ]
  },
  {
   "cell_type": "code",
   "execution_count": 45,
   "metadata": {},
   "outputs": [],
   "source": [
    "def pool_backward(dFA0, cache_pool, mode):\n",
    "    \n",
    "    \"\"\" cache_pool output from pooling forward\"\"\"\n",
    "    \"\"\" dP is output of first layer fully connected NN during back propagation \"\"\"\n",
    "    \n",
    "    data_prev, stride, padding, filter_size = cache_pool\n",
    "    m, n_h_prev, n_w_prev, n_ch_prev = data_prev.shape\n",
    "    m, n_h, n_w, n_ch = dFA0.shape\n",
    "    dA = np.zeros(data_prev.shape)\n",
    "    \n",
    "    for i in range(m):\n",
    "        data_each = data_prev[i]\n",
    "        for h in range(n_h):\n",
    "            vert_start = h * stride\n",
    "            vert_end = h * stride + filter_size\n",
    "            if(vert_end > data_prev.shape[1]):\n",
    "                break\n",
    "            for w in range(n_w):\n",
    "                horiz_start = w * stride\n",
    "                horiz_end = w * stride + filter_size\n",
    "                if(horiz_end > data_prev.shape[2]):\n",
    "                    break\n",
    "                for c in range(n_ch):\n",
    "                    if(mode == 'max'):\n",
    "                        a_slice = data_each[vert_start:vert_end, horiz_start:horiz_end, c]\n",
    "                        mask = a_slice == np.max(a_slice)\n",
    "                        dA[i, vert_start:vert_end, horiz_start:horiz_end, c ] += np.multiply(mask , dFA0[i, h, w, c])\n",
    "                    \n",
    "                        \n",
    "    return dA                    \n",
    "    "
   ]
  },
  {
   "cell_type": "code",
   "execution_count": 46,
   "metadata": {},
   "outputs": [],
   "source": [
    "def conv_backward(data_poolback, con_frwd_data, learning_rate):\n",
    "    \n",
    "    \"\"\"data_poolback is output from pooling layer during back propagation. ouput of pool_backward function\"\"\"\n",
    "    \"\"\"con_frwd_data is output of conv_forward function for this layer. this is stored as cache in conv_forward function\"\"\"\n",
    "    \"\"\" this function return the ouput of conv_backward operation which is a numpy array and updated weight and bias\"\"\"\n",
    "    \n",
    "    data_prev, filters, bias, padding, stride = con_frwd_data\n",
    "    m, n_h, n_w, n_ch = data_poolback.shape #shape of ouput od poolbackward\n",
    "    #print(data_poolback.shape)\n",
    "    m, n_h_prev, n_w_prev, n_ch_prev= data_prev.shape\n",
    "    filter_size = filters.shape[0]\n",
    "    #filters_T = filters.T\n",
    "    dA_prev = np.zeros((m, n_h_prev, n_w_prev, n_ch_prev))\n",
    "    dW = np.zeros(filters.shape)\n",
    "    #print(\"shape od dw\")\n",
    "    #print(dW.shape)\n",
    "    db = np.zeros(bias.shape)\n",
    "    if (padding > 0):\n",
    "        \"\"\"if padding present during convolution_forward, same padding for backward\"\"\"\n",
    "        data_prev_pad = zero_padding(data_prev, padding)\n",
    "        dA_prev_pad = zero_padding(dA_prev, padding)\n",
    "    else:\n",
    "        data_prev_pad = data_prev #padding = 0, copy the same data array\n",
    "        dA_prev_pad = dA_prev\n",
    "        \n",
    "    \"\"\"loop on the dimensions of pool backward output and loop on data of convolution forward input\"\"\"\n",
    "    for i in range(m):\n",
    "        data_prev_pad_each =  data_prev_pad[i]\n",
    "        dA_prev_pad_each = dA_prev_pad[i]\n",
    "        for h in range(n_h):\n",
    "            vert_start = h * stride\n",
    "            vert_end = h * stride + filter_size\n",
    "            if(vert_end > data_prev_pad.shape[1]):\n",
    "                break\n",
    "            for w in range(n_w):\n",
    "                horiz_start = w * stride\n",
    "                horiz_end = w * stride + filter_size\n",
    "                if(horiz_end > data_prev_pad.shape[2]):\n",
    "                    break\n",
    "            for c in range(n_ch):\n",
    "                a_slice = data_prev_pad_each[vert_start:vert_end, horiz_start:horiz_end, :]\n",
    "                #print(data_poolback[i, h, w, c].shape)\n",
    "                dA_prev_pad_each[vert_start:vert_end, horiz_start:horiz_end, :] += filters[:,:,:,c] * data_poolback[i, h, w, c]\n",
    "                dW[:,:,:,c] += a_slice * data_poolback[i, h, w, c]\n",
    "                db[:,:,:,c] += data_poolback[i, h, w, c]\n",
    "        if(padding > 0):\n",
    "            dA_prev[i, :, :, :] = dA_prev_pad_each[padding:-padding, padding:-padding, :]\n",
    "        else:\n",
    "            dA_prev[i, :, :, :] = dA_prev_pad_each\n",
    "            \n",
    "    \"\"\"calculating new weights and bias\"\"\"\n",
    "    new_W = filters - learning_rate * dW\n",
    "    new_bias = bias - learning_rate * db\n",
    "    \n",
    "    return dA_prev, new_W, new_bias  \n",
    "    \n",
    "    "
   ]
  },
  {
   "cell_type": "code",
   "execution_count": 47,
   "metadata": {},
   "outputs": [],
   "source": [
    "\"\"\"loading weights and biases from file\"\"\"\n",
    "import h5py\n",
    "dataset = h5py.File(\"weights_rma.hdf5\", \"r\")\n",
    "\n",
    "W1 = np.array(dataset[\"W1\"])\n",
    "W2 = np.array(dataset[\"W2\"])\n",
    "B1 = np.array(dataset[\"B1\"])\n",
    "B2 = np.array(dataset[\"B2\"])\n",
    "filter_set1 = np.array(dataset[\"filter_set1\"])\n",
    "filter_set2 = np.array(dataset[\"filter_set2\"])\n",
    "conv_bias1 = np.array(dataset[\"conv_bias1\"])\n",
    "conv_bias2 = np.array(dataset[\"conv_bias2\"])\n"
   ]
  },
  {
   "cell_type": "code",
   "execution_count": 51,
   "metadata": {},
   "outputs": [],
   "source": [
    "def model_final(W1, W2, filter_set1, filter_set2, conv_bias1, conv_bias2, B1, B2):\n",
    "    for i in range (2):\n",
    "    \n",
    "        conv1_data, cache_conv1 = conv_forward(1, 2, data_x1, 4, filter_set1, conv_bias1) # conv_forward of CNN layer 1\n",
    "        conv1_data_relu = relu_activation(conv1_data)\n",
    "        pool1_data, cache_pool1 = pool_forward(0, 1, conv1_data_relu, 5, 'max') # pool_forward for CNN layer 1\n",
    "        conv2_data, cache_conv2 = conv_forward(0, 2, pool1_data, 4, filter_set2, conv_bias2) #conv_forward of CNN layer 2\n",
    "        conv2_data_relu = relu_activation(conv2_data)\n",
    "        pool2_data, cache_pool2 = pool_forward(0, 1, conv2_data_relu, 5, 'max') # pool_forward for CNN layer 2\n",
    "\n",
    "        samples = pool2_data.shape[0]\n",
    "        flatten_size = pool2_data.shape[1] * pool2_data.shape[2] * pool2_data.shape[3] #flattening data\n",
    "        flatten_data = pool2_data.reshape(samples, flatten_size )\n",
    "\n",
    "        A1, A2, Z1, Z2 = forwardpropagation(W1, W2, flatten_data, B1, B2) #forward propagation in fully connected layers\n",
    "\n",
    "        dW1, dW2, db1, db2, dA0 = backwardpropagation(A1, A2, Z1, Y_en, flatten_data) #backward propagation in fully connected\n",
    "\n",
    "        W1, W2, B1, B2 = gradientDescent(dW1, dW2, db1, db2, B1, B2, W1, W2, 0.001)\n",
    "\n",
    "        dA0_unflatten = dA0.reshape(pool2_data.shape) #unflatting the ouput of fully connected back prop\n",
    "        dA_pool2 = pool_backward(dA0_unflatten, cache_pool2, 'max') #pool_backward in CNN layer 2\n",
    "        dA_relu_backward2 = dRelu(dA_pool2) #relu activation backward\n",
    "\n",
    "        dA_cnn2, filter_set2, conv_bias2 = conv_backward(dA_relu_backward2, cache_conv2, 0.001) #conv_backward CNN layer 2\n",
    "\n",
    "        dA_pool1 = pool_backward(dA_cnn2, cache_pool1, 'max') #pool_backward in CNN layer 1\n",
    "        dA_relu_backward1 = dRelu(dA_pool1) # relu activation backward\n",
    "\n",
    "        dA_cnn1, filter_set1, conv_bias1 = conv_backward(dA_relu_backward1, cache_conv1, 0.001) #conv_backward CNN layer 1\n",
    "        \n",
    "    return conv1_data, conv2_data, pool1_data, pool2_data, flatten_data, A1, A2\n"
   ]
  },
  {
   "cell_type": "code",
   "execution_count": 52,
   "metadata": {},
   "outputs": [],
   "source": [
    "conv1_data, conv2_data, pool1_data, pool2_data, flatten_data, A1, A2 = model_final(W1, W2, filter_set1, filter_set2, conv_bias1, conv_bias2, B1, B2)"
   ]
  },
  {
   "cell_type": "code",
   "execution_count": 53,
   "metadata": {},
   "outputs": [
    {
     "name": "stdout",
     "output_type": "stream",
     "text": [
      "Input data Shape is \n",
      "(1020, 64, 64, 3)\n",
      "C1 - Convlution Layer 1 Shape is \n",
      "(1020, 32, 32, 8)\n",
      "P1 - Pool Layer 1 Shape is \n",
      "(1020, 28, 28, 8)\n",
      "C2 - Convlution Layer 2 Shape is \n",
      "(1020, 13, 13, 16)\n",
      "P2 - Pool Layer 2 Shape is \n",
      "(1020, 9, 9, 16)\n",
      "F3 - Input to fully connected layer Shape is \n",
      "(1020, 1296)\n",
      "F4 - Hidden layer - A1 - Shape\n",
      "(108, 1020)\n",
      "F5 - Output layer Shape - A2- Shape \n",
      "(1020, 6)\n"
     ]
    }
   ],
   "source": [
    "\"\"\"printing dimensions of each layer\"\"\"\n",
    "\n",
    "print(\"Input data Shape is \")\n",
    "print(data_x1.shape)\n",
    "print(\"C1 - Convlution Layer 1 Shape is \")\n",
    "print(conv1_data.shape)\n",
    "print(\"P1 - Pool Layer 1 Shape is \")\n",
    "print(pool1_data.shape)\n",
    "print(\"C2 - Convlution Layer 2 Shape is \")\n",
    "print(conv2_data.shape)\n",
    "print(\"P2 - Pool Layer 2 Shape is \")\n",
    "print(pool2_data.shape)\n",
    "print(\"F3 - Input to fully connected layer Shape is \")\n",
    "print(flatten_data.shape)\n",
    "print(\"F4 - Hidden layer - A1 - Shape\")\n",
    "print(A1.shape)\n",
    "print(\"F5 - Output layer Shape - A2- Shape \")\n",
    "print(A2.shape)\n"
   ]
  },
  {
   "cell_type": "code",
   "execution_count": 54,
   "metadata": {},
   "outputs": [
    {
     "name": "stdout",
     "output_type": "stream",
     "text": [
      "cost of the model is 2.705206385239963 \n"
     ]
    }
   ],
   "source": [
    "\"\"\"loss of the model trained \"\"\"\n",
    "loss = lossFunction(Y_en, A2)\n",
    "print(\"cost of the model is %s \" %loss)"
   ]
  },
  {
   "cell_type": "code",
   "execution_count": 55,
   "metadata": {},
   "outputs": [
    {
     "data": {
      "text/plain": [
       "<matplotlib.table.Table at 0x2000f487358>"
      ]
     },
     "execution_count": 55,
     "metadata": {},
     "output_type": "execute_result"
    },
    {
     "data": {
      "image/png": "[encoded data removed]",
      "text/plain": [
       "<matplotlib.figure.Figure at 0x2007676e198>"
      ]
     },
     "metadata": {},
     "output_type": "display_data"
    }
   ],
   "source": [
    "\"\"\"architecture -tabular representation\"\"\"\n",
    "\n",
    "fig, ax = plt.subplots(figsize=(20, 5))\n",
    "\n",
    "# Hide axes\n",
    "ax.xaxis.set_visible(False) \n",
    "ax.yaxis.set_visible(False)\n",
    "\n",
    "\n",
    "data = [['0', 'Input', '64x64', '3', '', '', '', ''], ['1', 'Convolution(C1)', '32x32', '8', '4x4', '2', '1', 'ReLU'],\n",
    "           ['2', 'Pooling(P1)', '28x28', '8', '5x5', '1', '0', 'max'],\n",
    "           ['3', 'Convolution(C2)', '13x13', '16', '4x4', '2', '0', 'ReLU'],\n",
    "           ['4', 'Pooling(P2)', '9x9', '16', '5x5', '1', '0', 'max'],\n",
    "           ['5', 'Flatten(F3)', '1296', '', '', '', '', ''],\n",
    "           ['6', 'Fully Connected(F4)', '108', '', '', '', '', 'ReLU' ],\n",
    "           ['7', 'Fully Connected(F5)', '6', '', '', '', '', 'Sigmoid']\n",
    "          ]\n",
    "collabel=(\"Layer\", \"Type\", \"Size\", \"Channels\", \"Kernel Size\", \"Stride\", \"Padding\", \"Function\" )\n",
    "ax.table(cellText=data,colLabels=collabel,loc='center')"
   ]
  }
 ],
 "metadata": {
  "kernelspec": {
   "display_name": "Python 3",
   "language": "python",
   "name": "python3"
  },
  "language_info": {
   "codemirror_mode": {
    "name": "ipython",
    "version": 3
   },
   "file_extension": ".py",
   "mimetype": "text/x-python",
   "name": "python",
   "nbconvert_exporter": "python",
   "pygments_lexer": "ipython3",
   "version": "3.5.4"
  }
 },
 "nbformat": 4,
 "nbformat_minor": 2
}
